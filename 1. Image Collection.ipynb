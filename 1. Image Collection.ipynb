{
 "cells": [
  {
   "cell_type": "markdown",
   "metadata": {},
   "source": [
    "# 1. Import Dependencies"
   ]
  },
  {
   "cell_type": "code",
   "execution_count": 1,
   "metadata": {},
   "outputs": [
    {
     "name": "stdout",
     "output_type": "stream",
     "text": [
      "Requirement already satisfied: opencv-python in d:\\youtube\\od\\tfodcourse\\tfod\\lib\\site-packages (4.5.1.48)\n",
      "Requirement already satisfied: numpy>=1.14.5 in d:\\youtube\\od\\tfodcourse\\tfod\\lib\\site-packages (from opencv-python) (1.20.2)\n"
     ]
    }
   ],
   "source": [
    "!pip install opencv-python"
   ]
  },
  {
   "cell_type": "code",
   "execution_count": 1,
   "metadata": {},
   "outputs": [],
   "source": [
    "# Import opencv\n",
    "import cv2 \n",
    "\n",
    "# Import uuid\n",
    "import uuid\n",
    "\n",
    "# Import Operating System\n",
    "import os\n",
    "\n",
    "# Import time\n",
    "import time"
   ]
  },
  {
   "cell_type": "markdown",
   "metadata": {},
   "source": [
    "# 2. Define Images to Collect"
   ]
  },
  {
   "cell_type": "code",
   "execution_count": 2,
   "metadata": {},
   "outputs": [],
   "source": [
    "labels = ['hello','help'] \n",
    "number_imgs = 15"
   ]
  },
  {
   "cell_type": "markdown",
   "metadata": {},
   "source": [
    "# 3. Setup Folders "
   ]
  },
  {
   "cell_type": "code",
   "execution_count": 3,
   "metadata": {},
   "outputs": [],
   "source": [
    "IMAGES_PATH = os.path.join('Tensorflow', 'workspace', 'images', 'collectedimages')"
   ]
  },
  {
   "cell_type": "code",
   "execution_count": 4,
   "metadata": {},
   "outputs": [],
   "source": [
    "if not os.path.exists(IMAGES_PATH):\n",
    "    if os.name == 'posix':\n",
    "        !mkdir -p {IMAGES_PATH}\n",
    "    if os.name == 'nt':\n",
    "         !mkdir {IMAGES_PATH}\n",
    "for label in labels:\n",
    "    path = os.path.join(IMAGES_PATH, label)\n",
    "    if not os.path.exists(path):\n",
    "        !mkdir {path}"
   ]
  },
  {
   "cell_type": "markdown",
   "metadata": {},
   "source": [
    "# 4. Capture Images"
   ]
  },
  {
   "cell_type": "code",
   "execution_count": 5,
   "metadata": {},
   "outputs": [
    {
     "name": "stdout",
     "output_type": "stream",
     "text": [
      "Collecting images for hello\n",
      "Collecting image 0\n",
      "Collecting image 1\n",
      "Collecting image 2\n",
      "Collecting image 3\n",
      "Collecting image 4\n",
      "Collecting image 5\n",
      "Collecting image 6\n",
      "Collecting image 7\n",
      "Collecting image 8\n",
      "Collecting image 9\n",
      "Collecting image 10\n",
      "Collecting image 11\n",
      "Collecting image 12\n",
      "Collecting image 13\n",
      "Collecting image 14\n",
      "Collecting images for help\n",
      "Collecting image 0\n",
      "Collecting image 1\n",
      "Collecting image 2\n",
      "Collecting image 3\n",
      "Collecting image 4\n",
      "Collecting image 5\n",
      "Collecting image 6\n",
      "Collecting image 7\n",
      "Collecting image 8\n",
      "Collecting image 9\n",
      "Collecting image 10\n",
      "Collecting image 11\n",
      "Collecting image 12\n",
      "Collecting image 13\n",
      "Collecting image 14\n"
     ]
    }
   ],
   "source": [
    "for label in labels:\n",
    "    cap = cv2.VideoCapture(0)\n",
    "    print('Collecting images for {}'.format(label))\n",
    "    time.sleep(5)\n",
    "    for imgnum in range(number_imgs):\n",
    "        print('Collecting image {}'.format(imgnum))\n",
    "        ret, frame = cap.read()\n",
    "        imgname = os.path.join(IMAGES_PATH,label,label+'.'+'{}.jpg'.format(str(uuid.uuid1())))\n",
    "        cv2.imwrite(imgname, frame)\n",
    "        cv2.imshow('frame', frame)\n",
    "        time.sleep(2)\n",
    "\n",
    "        if cv2.waitKey(1) & 0xFF == ord('q'):\n",
    "            break\n",
    "cap.release()\n",
    "cv2.destroyAllWindows()"
   ]
  },
  {
   "cell_type": "markdown",
   "metadata": {},
   "source": [
    "# 5. Image Labelling"
   ]
  },
  {
   "cell_type": "code",
   "execution_count": 6,
   "metadata": {},
   "outputs": [
    {
     "name": "stdout",
     "output_type": "stream",
     "text": [
      "Collecting pyqt5\n",
      "  Downloading PyQt5-5.15.10-cp37-abi3-win_amd64.whl.metadata (2.2 kB)\n",
      "Requirement already satisfied: lxml in c:\\objectdetection\\tfodcourse\\tfod\\lib\\site-packages (4.9.3)\n",
      "Collecting PyQt5-sip<13,>=12.13 (from pyqt5)\n",
      "  Downloading PyQt5_sip-12.13.0-cp311-cp311-win_amd64.whl.metadata (524 bytes)\n",
      "Collecting PyQt5-Qt5>=5.15.2 (from pyqt5)\n",
      "  Downloading PyQt5_Qt5-5.15.2-py3-none-win_amd64.whl (50.1 MB)\n",
      "     ---------------------------------------- 0.0/50.1 MB ? eta -:--:--\n",
      "     ---------------------------------------- 0.0/50.1 MB ? eta -:--:--\n",
      "     --------------------------------------- 0.0/50.1 MB 660.6 kB/s eta 0:01:16\n",
      "     --------------------------------------- 0.1/50.1 MB 919.0 kB/s eta 0:00:55\n",
      "     ---------------------------------------- 0.2/50.1 MB 1.2 MB/s eta 0:00:41\n",
      "     ---------------------------------------- 0.3/50.1 MB 1.4 MB/s eta 0:00:35\n",
      "     ---------------------------------------- 0.4/50.1 MB 1.7 MB/s eta 0:00:29\n",
      "     ---------------------------------------- 0.5/50.1 MB 1.9 MB/s eta 0:00:27\n",
      "      --------------------------------------- 0.7/50.1 MB 2.1 MB/s eta 0:00:24\n",
      "      --------------------------------------- 0.8/50.1 MB 2.2 MB/s eta 0:00:23\n",
      "      --------------------------------------- 1.0/50.1 MB 2.5 MB/s eta 0:00:20\n",
      "     - -------------------------------------- 1.3/50.1 MB 2.9 MB/s eta 0:00:17\n",
      "     - -------------------------------------- 1.7/50.1 MB 3.3 MB/s eta 0:00:15\n",
      "     - -------------------------------------- 2.2/50.1 MB 3.9 MB/s eta 0:00:13\n",
      "     -- ------------------------------------- 2.6/50.1 MB 4.4 MB/s eta 0:00:11\n",
      "     -- ------------------------------------- 3.3/50.1 MB 5.2 MB/s eta 0:00:09\n",
      "     --- ------------------------------------ 4.0/50.1 MB 5.7 MB/s eta 0:00:09\n",
      "     --- ------------------------------------ 4.9/50.1 MB 6.5 MB/s eta 0:00:07\n",
      "     ---- ----------------------------------- 5.8/50.1 MB 7.3 MB/s eta 0:00:07\n",
      "     ----- ---------------------------------- 7.1/50.1 MB 8.4 MB/s eta 0:00:06\n",
      "     ------ --------------------------------- 8.3/50.1 MB 9.3 MB/s eta 0:00:05\n",
      "     ------- -------------------------------- 9.9/50.1 MB 10.6 MB/s eta 0:00:04\n",
      "     -------- ------------------------------ 11.3/50.1 MB 18.7 MB/s eta 0:00:03\n",
      "     --------- ----------------------------- 12.8/50.1 MB 23.4 MB/s eta 0:00:02\n",
      "     ----------- --------------------------- 14.2/50.1 MB 28.5 MB/s eta 0:00:02\n",
      "     ------------ -------------------------- 15.5/50.1 MB 29.7 MB/s eta 0:00:02\n",
      "     ------------- ------------------------- 17.0/50.1 MB 31.2 MB/s eta 0:00:02\n",
      "     -------------- ------------------------ 18.4/50.1 MB 31.2 MB/s eta 0:00:02\n",
      "     --------------- ----------------------- 19.8/50.1 MB 31.2 MB/s eta 0:00:01\n",
      "     ---------------- ---------------------- 21.3/50.1 MB 31.1 MB/s eta 0:00:01\n",
      "     ----------------- --------------------- 22.9/50.1 MB 31.2 MB/s eta 0:00:01\n",
      "     ------------------ -------------------- 24.2/50.1 MB 31.2 MB/s eta 0:00:01\n",
      "     -------------------- ------------------ 25.8/50.1 MB 32.8 MB/s eta 0:00:01\n",
      "     --------------------- ----------------- 27.0/50.1 MB 31.2 MB/s eta 0:00:01\n",
      "     ---------------------- ---------------- 28.5/50.1 MB 31.2 MB/s eta 0:00:01\n",
      "     ---------------------- ---------------- 29.5/50.1 MB 29.7 MB/s eta 0:00:01\n",
      "     ------------------------ -------------- 30.9/50.1 MB 29.7 MB/s eta 0:00:01\n",
      "     ------------------------ -------------- 31.7/50.1 MB 29.7 MB/s eta 0:00:01\n",
      "     ------------------------- ------------- 32.2/50.1 MB 26.2 MB/s eta 0:00:01\n",
      "     ------------------------- ------------- 33.1/50.1 MB 24.2 MB/s eta 0:00:01\n",
      "     ------------------------- ------------- 33.3/50.1 MB 22.6 MB/s eta 0:00:01\n",
      "     -------------------------- ------------ 33.5/50.1 MB 20.5 MB/s eta 0:00:01\n",
      "     -------------------------- ------------ 33.6/50.1 MB 19.9 MB/s eta 0:00:01\n",
      "     -------------------------- ------------ 33.7/50.1 MB 17.7 MB/s eta 0:00:01\n",
      "     -------------------------- ------------ 33.9/50.1 MB 16.4 MB/s eta 0:00:01\n",
      "     -------------------------- ------------ 34.5/50.1 MB 16.0 MB/s eta 0:00:01\n",
      "     --------------------------- ----------- 34.9/50.1 MB 15.6 MB/s eta 0:00:01\n",
      "     --------------------------- ----------- 35.9/50.1 MB 14.6 MB/s eta 0:00:01\n",
      "     ---------------------------- ---------- 37.0/50.1 MB 14.6 MB/s eta 0:00:01\n",
      "     ---------------------------- ---------- 37.2/50.1 MB 13.6 MB/s eta 0:00:01\n",
      "     ----------------------------- --------- 37.9/50.1 MB 13.1 MB/s eta 0:00:01\n",
      "     ------------------------------ -------- 39.0/50.1 MB 13.1 MB/s eta 0:00:01\n",
      "     ------------------------------ -------- 39.2/50.1 MB 13.1 MB/s eta 0:00:01\n",
      "     ------------------------------- ------- 40.2/50.1 MB 12.3 MB/s eta 0:00:01\n",
      "     -------------------------------- ------ 41.1/50.1 MB 12.1 MB/s eta 0:00:01\n",
      "     -------------------------------- ------ 41.3/50.1 MB 12.1 MB/s eta 0:00:01\n",
      "     --------------------------------- ----- 42.6/50.1 MB 12.4 MB/s eta 0:00:01\n",
      "     --------------------------------- ----- 43.5/50.1 MB 12.6 MB/s eta 0:00:01\n",
      "     ---------------------------------- ---- 44.0/50.1 MB 15.6 MB/s eta 0:00:01\n",
      "     ----------------------------------- --- 45.0/50.1 MB 16.0 MB/s eta 0:00:01\n",
      "     ----------------------------------- --- 45.6/50.1 MB 16.8 MB/s eta 0:00:01\n",
      "     ----------------------------------- --- 46.1/50.1 MB 15.6 MB/s eta 0:00:01\n",
      "     ------------------------------------ -- 47.0/50.1 MB 15.2 MB/s eta 0:00:01\n",
      "     ------------------------------------- - 47.8/50.1 MB 16.8 MB/s eta 0:00:01\n",
      "     ------------------------------------- - 48.0/50.1 MB 15.6 MB/s eta 0:00:01\n",
      "     ------------------------------------- - 48.7/50.1 MB 15.2 MB/s eta 0:00:01\n",
      "     --------------------------------------  49.6/50.1 MB 16.0 MB/s eta 0:00:01\n",
      "     --------------------------------------  49.9/50.1 MB 16.0 MB/s eta 0:00:01\n",
      "     --------------------------------------  50.1/50.1 MB 15.2 MB/s eta 0:00:01\n",
      "     --------------------------------------  50.1/50.1 MB 15.2 MB/s eta 0:00:01\n",
      "     --------------------------------------  50.1/50.1 MB 15.2 MB/s eta 0:00:01\n",
      "     --------------------------------------  50.1/50.1 MB 15.2 MB/s eta 0:00:01\n",
      "     --------------------------------------- 50.1/50.1 MB 11.9 MB/s eta 0:00:00\n",
      "Downloading PyQt5-5.15.10-cp37-abi3-win_amd64.whl (6.8 MB)\n",
      "   ---------------------------------------- 0.0/6.8 MB ? eta -:--:--\n",
      "   - -------------------------------------- 0.3/6.8 MB 15.4 MB/s eta 0:00:01\n",
      "   ---- ----------------------------------- 0.8/6.8 MB 10.5 MB/s eta 0:00:01\n",
      "   -------- ------------------------------- 1.5/6.8 MB 12.2 MB/s eta 0:00:01\n",
      "   ------------ --------------------------- 2.1/6.8 MB 13.6 MB/s eta 0:00:01\n",
      "   ---------------- ----------------------- 2.8/6.8 MB 12.8 MB/s eta 0:00:01\n",
      "   ---------------------- ----------------- 3.8/6.8 MB 14.4 MB/s eta 0:00:01\n",
      "   ------------------------ --------------- 4.3/6.8 MB 15.2 MB/s eta 0:00:01\n",
      "   ----------------------------- ---------- 5.1/6.8 MB 14.3 MB/s eta 0:00:01\n",
      "   ------------------------------------- -- 6.4/6.8 MB 15.8 MB/s eta 0:00:01\n",
      "   ---------------------------------------  6.8/6.8 MB 15.0 MB/s eta 0:00:01\n",
      "   ---------------------------------------  6.8/6.8 MB 14.6 MB/s eta 0:00:01\n",
      "   ---------------------------------------- 6.8/6.8 MB 13.7 MB/s eta 0:00:00\n",
      "Downloading PyQt5_sip-12.13.0-cp311-cp311-win_amd64.whl (78 kB)\n",
      "   ---------------------------------------- 0.0/78.5 kB ? eta -:--:--\n",
      "   ---------------------------------------- 78.5/78.5 kB ? eta 0:00:00\n",
      "Installing collected packages: PyQt5-Qt5, PyQt5-sip, pyqt5\n",
      "Successfully installed PyQt5-Qt5-5.15.2 PyQt5-sip-12.13.0 pyqt5-5.15.10\n"
     ]
    },
    {
     "name": "stderr",
     "output_type": "stream",
     "text": [
      "DEPRECATION: Loading egg at c:\\objectdetection\\tfodcourse\\tfod\\lib\\site-packages\\apache_beam-2.51.0-py3.11-win-amd64.egg is deprecated. pip 24.3 will enforce this behaviour change. A possible replacement is to use pip for package installation.. Discussion can be found at https://github.com/pypa/pip/issues/12330\n",
      "DEPRECATION: Loading egg at c:\\objectdetection\\tfodcourse\\tfod\\lib\\site-packages\\avro_python3-1.10.2-py3.11.egg is deprecated. pip 24.3 will enforce this behaviour change. A possible replacement is to use pip for package installation.. Discussion can be found at https://github.com/pypa/pip/issues/12330\n",
      "DEPRECATION: Loading egg at c:\\objectdetection\\tfodcourse\\tfod\\lib\\site-packages\\contextlib2-21.6.0-py3.11.egg is deprecated. pip 24.3 will enforce this behaviour change. A possible replacement is to use pip for package installation.. Discussion can be found at https://github.com/pypa/pip/issues/12330\n",
      "DEPRECATION: Loading egg at c:\\objectdetection\\tfodcourse\\tfod\\lib\\site-packages\\lvis-0.5.3-py3.11.egg is deprecated. pip 24.3 will enforce this behaviour change. A possible replacement is to use pip for package installation.. Discussion can be found at https://github.com/pypa/pip/issues/12330\n",
      "DEPRECATION: Loading egg at c:\\objectdetection\\tfodcourse\\tfod\\lib\\site-packages\\object_detection-0.1-py3.11.egg is deprecated. pip 24.3 will enforce this behaviour change. A possible replacement is to use pip for package installation.. Discussion can be found at https://github.com/pypa/pip/issues/12330\n",
      "DEPRECATION: Loading egg at c:\\objectdetection\\tfodcourse\\tfod\\lib\\site-packages\\pandas-2.1.2-py3.11-win-amd64.egg is deprecated. pip 24.3 will enforce this behaviour change. A possible replacement is to use pip for package installation.. Discussion can be found at https://github.com/pypa/pip/issues/12330\n",
      "DEPRECATION: Loading egg at c:\\objectdetection\\tfodcourse\\tfod\\lib\\site-packages\\portalocker-2.8.2-py3.11.egg is deprecated. pip 24.3 will enforce this behaviour change. A possible replacement is to use pip for package installation.. Discussion can be found at https://github.com/pypa/pip/issues/12330\n",
      "DEPRECATION: Loading egg at c:\\objectdetection\\tfodcourse\\tfod\\lib\\site-packages\\pycocotools-2.0.7-py3.11-win-amd64.egg is deprecated. pip 24.3 will enforce this behaviour change. A possible replacement is to use pip for package installation.. Discussion can be found at https://github.com/pypa/pip/issues/12330\n",
      "DEPRECATION: Loading egg at c:\\objectdetection\\tfodcourse\\tfod\\lib\\site-packages\\pyparsing-2.4.7-py3.11.egg is deprecated. pip 24.3 will enforce this behaviour change. A possible replacement is to use pip for package installation.. Discussion can be found at https://github.com/pypa/pip/issues/12330\n",
      "DEPRECATION: Loading egg at c:\\objectdetection\\tfodcourse\\tfod\\lib\\site-packages\\regex-2023.10.3-py3.11-win-amd64.egg is deprecated. pip 24.3 will enforce this behaviour change. A possible replacement is to use pip for package installation.. Discussion can be found at https://github.com/pypa/pip/issues/12330\n",
      "DEPRECATION: Loading egg at c:\\objectdetection\\tfodcourse\\tfod\\lib\\site-packages\\sacrebleu-2.2.0-py3.11.egg is deprecated. pip 24.3 will enforce this behaviour change. A possible replacement is to use pip for package installation.. Discussion can be found at https://github.com/pypa/pip/issues/12330\n",
      "DEPRECATION: Loading egg at c:\\objectdetection\\tfodcourse\\tfod\\lib\\site-packages\\tabulate-0.9.0-py3.11.egg is deprecated. pip 24.3 will enforce this behaviour change. A possible replacement is to use pip for package installation.. Discussion can be found at https://github.com/pypa/pip/issues/12330\n",
      "DEPRECATION: Loading egg at c:\\objectdetection\\tfodcourse\\tfod\\lib\\site-packages\\tf_models_official-2.14.2-py3.11.egg is deprecated. pip 24.3 will enforce this behaviour change. A possible replacement is to use pip for package installation.. Discussion can be found at https://github.com/pypa/pip/issues/12330\n"
     ]
    }
   ],
   "source": [
    "!pip install --upgrade pyqt5 lxml"
   ]
  },
  {
   "cell_type": "code",
   "execution_count": 7,
   "metadata": {},
   "outputs": [],
   "source": [
    "LABELIMG_PATH = os.path.join('Tensorflow', 'labelimg')"
   ]
  },
  {
   "cell_type": "code",
   "execution_count": 8,
   "metadata": {},
   "outputs": [
    {
     "name": "stderr",
     "output_type": "stream",
     "text": [
      "Cloning into 'Tensorflow\\labelimg'...\n"
     ]
    }
   ],
   "source": [
    "if not os.path.exists(LABELIMG_PATH):\n",
    "    !mkdir {LABELIMG_PATH}\n",
    "    !git clone https://github.com/tzutalin/labelImg {LABELIMG_PATH}"
   ]
  },
  {
   "cell_type": "code",
   "execution_count": 9,
   "metadata": {},
   "outputs": [],
   "source": [
    "if os.name == 'posix':\n",
    "    !make qt5py3\n",
    "if os.name =='nt':\n",
    "    !cd {LABELIMG_PATH} && pyrcc5 -o libs/resources.py resources.qrc"
   ]
  },
  {
   "cell_type": "code",
   "execution_count": 11,
   "metadata": {},
   "outputs": [
    {
     "name": "stdout",
     "output_type": "stream",
     "text": [
      "ESC press\n",
      "Cancel creation.\n",
      "Image:C:\\ObjectDetection\\TFODCourse\\Tensorflow\\workspace\\images\\collectedimages\\hello.1d0c4cbd-7d4b-11ee-8767-9822efe6001e.jpg -> Annotation:C:/ObjectDetection/TFODCourse/Tensorflow/workspace/images/collectedimages\\hello.1d0c4cbd-7d4b-11ee-8767-9822efe6001e.xml\n",
      "Image:C:\\ObjectDetection\\TFODCourse\\Tensorflow\\workspace\\images\\collectedimages\\hello.1e437bf2-7d4b-11ee-9ae1-9822efe6001e.jpg -> Annotation:C:/ObjectDetection/TFODCourse/Tensorflow/workspace/images/collectedimages\\hello.1e437bf2-7d4b-11ee-9ae1-9822efe6001e.xml\n",
      "Image:C:\\ObjectDetection\\TFODCourse\\Tensorflow\\workspace\\images\\collectedimages\\hello.1f7a3a05-7d4b-11ee-b629-9822efe6001e.jpg -> Annotation:C:/ObjectDetection/TFODCourse/Tensorflow/workspace/images/collectedimages\\hello.1f7a3a05-7d4b-11ee-b629-9822efe6001e.xml\n",
      "ESC press\n",
      "Cancel creation.\n",
      "Image:C:\\ObjectDetection\\TFODCourse\\Tensorflow\\workspace\\images\\collectedimages\\hello.2b9b6b50-7d4b-11ee-bfa9-9822efe6001e.jpg -> Annotation:C:/ObjectDetection/TFODCourse/Tensorflow/workspace/images/collectedimages\\hello.2b9b6b50-7d4b-11ee-bfa9-9822efe6001e.xml\n",
      "Image:C:\\ObjectDetection\\TFODCourse\\Tensorflow\\workspace\\images\\collectedimages\\hello.2cd1e6f8-7d4b-11ee-9f2a-9822efe6001e.jpg -> Annotation:C:/ObjectDetection/TFODCourse/Tensorflow/workspace/images/collectedimages\\hello.2cd1e6f8-7d4b-11ee-9f2a-9822efe6001e.xml\n",
      "Image:C:\\ObjectDetection\\TFODCourse\\Tensorflow\\workspace\\images\\collectedimages\\hello.20b0c8c6-7d4b-11ee-8946-9822efe6001e.jpg -> Annotation:C:/ObjectDetection/TFODCourse/Tensorflow/workspace/images/collectedimages\\hello.20b0c8c6-7d4b-11ee-8946-9822efe6001e.xml\n",
      "Image:C:\\ObjectDetection\\TFODCourse\\Tensorflow\\workspace\\images\\collectedimages\\hello.21e771bc-7d4b-11ee-b691-9822efe6001e.jpg -> Annotation:C:/ObjectDetection/TFODCourse/Tensorflow/workspace/images/collectedimages\\hello.21e771bc-7d4b-11ee-b691-9822efe6001e.xml\n",
      "Image:C:\\ObjectDetection\\TFODCourse\\Tensorflow\\workspace\\images\\collectedimages\\hello.26c14322-7d4b-11ee-973c-9822efe6001e.jpg -> Annotation:C:/ObjectDetection/TFODCourse/Tensorflow/workspace/images/collectedimages\\hello.26c14322-7d4b-11ee-973c-9822efe6001e.xml\n",
      "ESC press\n",
      "Cancel creation.\n",
      "Image:C:\\ObjectDetection\\TFODCourse\\Tensorflow\\workspace\\images\\collectedimages\\hello.27f7c2bb-7d4b-11ee-94e9-9822efe6001e.jpg -> Annotation:C:/ObjectDetection/TFODCourse/Tensorflow/workspace/images/collectedimages\\hello.27f7c2bb-7d4b-11ee-94e9-9822efe6001e.xml\n",
      "Image:C:\\ObjectDetection\\TFODCourse\\Tensorflow\\workspace\\images\\collectedimages\\hello.231e02cd-7d4b-11ee-b2a2-9822efe6001e.jpg -> Annotation:C:/ObjectDetection/TFODCourse/Tensorflow/workspace/images/collectedimages\\hello.231e02cd-7d4b-11ee-b2a2-9822efe6001e.xml\n",
      "Image:C:\\ObjectDetection\\TFODCourse\\Tensorflow\\workspace\\images\\collectedimages\\hello.258d534e-7d4b-11ee-8930-9822efe6001e.jpg -> Annotation:C:/ObjectDetection/TFODCourse/Tensorflow/workspace/images/collectedimages\\hello.258d534e-7d4b-11ee-8930-9822efe6001e.xml\n",
      "ESC press\n",
      "Cancel creation.\n",
      "Image:C:\\ObjectDetection\\TFODCourse\\Tensorflow\\workspace\\images\\collectedimages\\hello.292e4ef2-7d4b-11ee-878e-9822efe6001e.jpg -> Annotation:C:/ObjectDetection/TFODCourse/Tensorflow/workspace/images/collectedimages\\hello.292e4ef2-7d4b-11ee-878e-9822efe6001e.xml\n",
      "ESC press\n",
      "Cancel creation.\n",
      "Image:C:\\ObjectDetection\\TFODCourse\\Tensorflow\\workspace\\images\\collectedimages\\hello.2454762a-7d4b-11ee-963e-9822efe6001e.jpg -> Annotation:C:/ObjectDetection/TFODCourse/Tensorflow/workspace/images/collectedimages\\hello.2454762a-7d4b-11ee-963e-9822efe6001e.xml\n",
      "Image:C:\\ObjectDetection\\TFODCourse\\Tensorflow\\workspace\\images\\collectedimages\\help.7a9b5edc-7d4b-11ee-8deb-9822efe6001e.jpg -> Annotation:C:/ObjectDetection/TFODCourse/Tensorflow/workspace/images/collectedimages\\help.7a9b5edc-7d4b-11ee-8deb-9822efe6001e.xml\n",
      "Image:C:\\ObjectDetection\\TFODCourse\\Tensorflow\\workspace\\images\\collectedimages\\help.7bd1fbc1-7d4b-11ee-9e06-9822efe6001e.jpg -> Annotation:C:/ObjectDetection/TFODCourse/Tensorflow/workspace/images/collectedimages\\help.7bd1fbc1-7d4b-11ee-9e06-9822efe6001e.xml\n",
      "Image:C:\\ObjectDetection\\TFODCourse\\Tensorflow\\workspace\\images\\collectedimages\\help.7d08d61e-7d4b-11ee-bd90-9822efe6001e.jpg -> Annotation:C:/ObjectDetection/TFODCourse/Tensorflow/workspace/images/collectedimages\\help.7d08d61e-7d4b-11ee-bd90-9822efe6001e.xml\n",
      "Image:C:\\ObjectDetection\\TFODCourse\\Tensorflow\\workspace\\images\\collectedimages\\help.7e3f62a3-7d4b-11ee-bfb0-9822efe6001e.jpg -> Annotation:C:/ObjectDetection/TFODCourse/Tensorflow/workspace/images/collectedimages\\help.7e3f62a3-7d4b-11ee-bfb0-9822efe6001e.xml\n",
      "ESC press\n",
      "Cancel creation.\n",
      "Image:C:\\ObjectDetection\\TFODCourse\\Tensorflow\\workspace\\images\\collectedimages\\help.80ac3f74-7d4b-11ee-ad0c-9822efe6001e.jpg -> Annotation:C:/ObjectDetection/TFODCourse/Tensorflow/workspace/images/collectedimages\\help.80ac3f74-7d4b-11ee-ad0c-9822efe6001e.xml\n",
      "Image:C:\\ObjectDetection\\TFODCourse\\Tensorflow\\workspace\\images\\collectedimages\\help.81e2a287-7d4b-11ee-864b-9822efe6001e.jpg -> Annotation:C:/ObjectDetection/TFODCourse/Tensorflow/workspace/images/collectedimages\\help.81e2a287-7d4b-11ee-864b-9822efe6001e.xml\n",
      "Image:C:\\ObjectDetection\\TFODCourse\\Tensorflow\\workspace\\images\\collectedimages\\help.86bcef97-7d4b-11ee-91fe-9822efe6001e.jpg -> Annotation:C:/ObjectDetection/TFODCourse/Tensorflow/workspace/images/collectedimages\\help.86bcef97-7d4b-11ee-91fe-9822efe6001e.xml\n",
      "Image:C:\\ObjectDetection\\TFODCourse\\Tensorflow\\workspace\\images\\collectedimages\\help.87f3bc0b-7d4b-11ee-93ec-9822efe6001e.jpg -> Annotation:C:/ObjectDetection/TFODCourse/Tensorflow/workspace/images/collectedimages\\help.87f3bc0b-7d4b-11ee-93ec-9822efe6001e.xml\n",
      "Image:C:\\ObjectDetection\\TFODCourse\\Tensorflow\\workspace\\images\\collectedimages\\help.782dc0e9-7d4b-11ee-9296-9822efe6001e.jpg -> Annotation:C:/ObjectDetection/TFODCourse/Tensorflow/workspace/images/collectedimages\\help.782dc0e9-7d4b-11ee-9296-9822efe6001e.xml\n",
      "Image:C:\\ObjectDetection\\TFODCourse\\Tensorflow\\workspace\\images\\collectedimages\\help.79646f33-7d4b-11ee-9b94-9822efe6001e.jpg -> Annotation:C:/ObjectDetection/TFODCourse/Tensorflow/workspace/images/collectedimages\\help.79646f33-7d4b-11ee-9b94-9822efe6001e.xml\n",
      "Image:C:\\ObjectDetection\\TFODCourse\\Tensorflow\\workspace\\images\\collectedimages\\help.8319804f-7d4b-11ee-99c4-9822efe6001e.jpg -> Annotation:C:/ObjectDetection/TFODCourse/Tensorflow/workspace/images/collectedimages\\help.8319804f-7d4b-11ee-99c4-9822efe6001e.xml\n",
      "Image:C:\\ObjectDetection\\TFODCourse\\Tensorflow\\workspace\\images\\collectedimages\\help.85868950-7d4b-11ee-b48d-9822efe6001e.jpg -> Annotation:C:/ObjectDetection/TFODCourse/Tensorflow/workspace/images/collectedimages\\help.85868950-7d4b-11ee-b48d-9822efe6001e.xml\n",
      "Image:C:\\ObjectDetection\\TFODCourse\\Tensorflow\\workspace\\images\\collectedimages\\no.6b1b8188-7d4b-11ee-a3af-9822efe6001e.jpg -> Annotation:C:/ObjectDetection/TFODCourse/Tensorflow/workspace/images/collectedimages\\no.6b1b8188-7d4b-11ee-a3af-9822efe6001e.xml\n",
      "Image:C:\\ObjectDetection\\TFODCourse\\Tensorflow\\workspace\\images\\collectedimages\\no.6c521d32-7d4b-11ee-a809-9822efe6001e.jpg -> Annotation:C:/ObjectDetection/TFODCourse/Tensorflow/workspace/images/collectedimages\\no.6c521d32-7d4b-11ee-a809-9822efe6001e.xml\n",
      "Image:C:\\ObjectDetection\\TFODCourse\\Tensorflow\\workspace\\images\\collectedimages\\no.6d88ac2c-7d4b-11ee-a327-9822efe6001e.jpg -> Annotation:C:/ObjectDetection/TFODCourse/Tensorflow/workspace/images/collectedimages\\no.6d88ac2c-7d4b-11ee-a327-9822efe6001e.xml\n",
      "Cancel creation.\n",
      "Image:C:\\ObjectDetection\\TFODCourse\\Tensorflow\\workspace\\images\\collectedimages\\no.6ebf385d-7d4b-11ee-bce9-9822efe6001e.jpg -> Annotation:C:/ObjectDetection/TFODCourse/Tensorflow/workspace/images/collectedimages\\no.6ebf385d-7d4b-11ee-bce9-9822efe6001e.xml\n",
      "Image:C:\\ObjectDetection\\TFODCourse\\Tensorflow\\workspace\\images\\collectedimages\\no.6ff5e03f-7d4b-11ee-a5ce-9822efe6001e.jpg -> Annotation:C:/ObjectDetection/TFODCourse/Tensorflow/workspace/images/collectedimages\\no.6ff5e03f-7d4b-11ee-a5ce-9822efe6001e.xml\n",
      "Image:C:\\ObjectDetection\\TFODCourse\\Tensorflow\\workspace\\images\\collectedimages\\no.63d3a683-7d4b-11ee-a2fd-9822efe6001e.jpg -> Annotation:C:/ObjectDetection/TFODCourse/Tensorflow/workspace/images/collectedimages\\no.63d3a683-7d4b-11ee-a2fd-9822efe6001e.xml\n",
      "Image:C:\\ObjectDetection\\TFODCourse\\Tensorflow\\workspace\\images\\collectedimages\\no.68ae5bd6-7d4b-11ee-8cd6-9822efe6001e.jpg -> Annotation:C:/ObjectDetection/TFODCourse/Tensorflow/workspace/images/collectedimages\\no.68ae5bd6-7d4b-11ee-8cd6-9822efe6001e.xml\n",
      "Image:C:\\ObjectDetection\\TFODCourse\\Tensorflow\\workspace\\images\\collectedimages\\no.69e4cfa2-7d4b-11ee-995d-9822efe6001e.jpg -> Annotation:C:/ObjectDetection/TFODCourse/Tensorflow/workspace/images/collectedimages\\no.69e4cfa2-7d4b-11ee-995d-9822efe6001e.xml\n",
      "Image:C:\\ObjectDetection\\TFODCourse\\Tensorflow\\workspace\\images\\collectedimages\\no.602f85a1-7d4b-11ee-a6ac-9822efe6001e.jpg -> Annotation:C:/ObjectDetection/TFODCourse/Tensorflow/workspace/images/collectedimages\\no.602f85a1-7d4b-11ee-a6ac-9822efe6001e.xml\n",
      "Image:C:\\ObjectDetection\\TFODCourse\\Tensorflow\\workspace\\images\\collectedimages\\no.629cfdbc-7d4b-11ee-b59c-9822efe6001e.jpg -> Annotation:C:/ObjectDetection/TFODCourse/Tensorflow/workspace/images/collectedimages\\no.629cfdbc-7d4b-11ee-b59c-9822efe6001e.xml\n",
      "Image:C:\\ObjectDetection\\TFODCourse\\Tensorflow\\workspace\\images\\collectedimages\\no.650a64a1-7d4b-11ee-8059-9822efe6001e.jpg -> Annotation:C:/ObjectDetection/TFODCourse/Tensorflow/workspace/images/collectedimages\\no.650a64a1-7d4b-11ee-8059-9822efe6001e.xml\n",
      "Image:C:\\ObjectDetection\\TFODCourse\\Tensorflow\\workspace\\images\\collectedimages\\no.712ca54f-7d4b-11ee-a838-9822efe6001e.jpg -> Annotation:C:/ObjectDetection/TFODCourse/Tensorflow/workspace/images/collectedimages\\no.712ca54f-7d4b-11ee-a838-9822efe6001e.xml\n",
      "Image:C:\\ObjectDetection\\TFODCourse\\Tensorflow\\workspace\\images\\collectedimages\\no.6166b806-7d4b-11ee-88e2-9822efe6001e.jpg -> Annotation:C:/ObjectDetection/TFODCourse/Tensorflow/workspace/images/collectedimages\\no.6166b806-7d4b-11ee-88e2-9822efe6001e.xml\n",
      "Image:C:\\ObjectDetection\\TFODCourse\\Tensorflow\\workspace\\images\\collectedimages\\no.6777a6bf-7d4b-11ee-9142-9822efe6001e.jpg -> Annotation:C:/ObjectDetection/TFODCourse/Tensorflow/workspace/images/collectedimages\\no.6777a6bf-7d4b-11ee-9142-9822efe6001e.xml\n",
      "Image:C:\\ObjectDetection\\TFODCourse\\Tensorflow\\workspace\\images\\collectedimages\\no.6641304a-7d4b-11ee-bd7c-9822efe6001e.jpg -> Annotation:C:/ObjectDetection/TFODCourse/Tensorflow/workspace/images/collectedimages\\no.6641304a-7d4b-11ee-bd7c-9822efe6001e.xml\n",
      "Image:C:\\ObjectDetection\\TFODCourse\\Tensorflow\\workspace\\images\\collectedimages\\thanks.3b1550f7-7d4b-11ee-8c76-9822efe6001e.jpg -> Annotation:C:/ObjectDetection/TFODCourse/Tensorflow/workspace/images/collectedimages\\thanks.3b1550f7-7d4b-11ee-8c76-9822efe6001e.xml\n",
      "Image:C:\\ObjectDetection\\TFODCourse\\Tensorflow\\workspace\\images\\collectedimages\\thanks.3c4c1f0a-7d4b-11ee-9f26-9822efe6001e.jpg -> Annotation:C:/ObjectDetection/TFODCourse/Tensorflow/workspace/images/collectedimages\\thanks.3c4c1f0a-7d4b-11ee-9f26-9822efe6001e.xml\n",
      "Image:C:\\ObjectDetection\\TFODCourse\\Tensorflow\\workspace\\images\\collectedimages\\thanks.3d829ea4-7d4b-11ee-b447-9822efe6001e.jpg -> Annotation:C:/ObjectDetection/TFODCourse/Tensorflow/workspace/images/collectedimages\\thanks.3d829ea4-7d4b-11ee-b447-9822efe6001e.xml\n",
      "Image:C:\\ObjectDetection\\TFODCourse\\Tensorflow\\workspace\\images\\collectedimages\\thanks.3eb93835-7d4b-11ee-ace1-9822efe6001e.jpg -> Annotation:C:/ObjectDetection/TFODCourse/Tensorflow/workspace/images/collectedimages\\thanks.3eb93835-7d4b-11ee-ace1-9822efe6001e.xml\n",
      "Image:C:\\ObjectDetection\\TFODCourse\\Tensorflow\\workspace\\images\\collectedimages\\thanks.3fefabf1-7d4b-11ee-a4c5-9822efe6001e.jpg -> Annotation:C:/ObjectDetection/TFODCourse/Tensorflow/workspace/images/collectedimages\\thanks.3fefabf1-7d4b-11ee-a4c5-9822efe6001e.xml\n",
      "Image:C:\\ObjectDetection\\TFODCourse\\Tensorflow\\workspace\\images\\collectedimages\\thanks.33cfe937-7d4b-11ee-8393-9822efe6001e.jpg -> Annotation:C:/ObjectDetection/TFODCourse/Tensorflow/workspace/images/collectedimages\\thanks.33cfe937-7d4b-11ee-8393-9822efe6001e.xml\n",
      "Image:C:\\ObjectDetection\\TFODCourse\\Tensorflow\\workspace\\images\\collectedimages\\thanks.38a7ecce-7d4b-11ee-8d06-9822efe6001e.jpg -> Annotation:C:/ObjectDetection/TFODCourse/Tensorflow/workspace/images/collectedimages\\thanks.38a7ecce-7d4b-11ee-8d06-9822efe6001e.xml\n",
      "Image:C:\\ObjectDetection\\TFODCourse\\Tensorflow\\workspace\\images\\collectedimages\\thanks.39decbed-7d4b-11ee-8c3e-9822efe6001e.jpg -> Annotation:C:/ObjectDetection/TFODCourse/Tensorflow/workspace/images/collectedimages\\thanks.39decbed-7d4b-11ee-8c3e-9822efe6001e.xml\n",
      "Image:C:\\ObjectDetection\\TFODCourse\\Tensorflow\\workspace\\images\\collectedimages\\thanks.363b8d85-7d4b-11ee-8b60-9822efe6001e.jpg -> Annotation:C:/ObjectDetection/TFODCourse/Tensorflow/workspace/images/collectedimages\\thanks.363b8d85-7d4b-11ee-8b60-9822efe6001e.xml\n",
      "Image:C:\\ObjectDetection\\TFODCourse\\Tensorflow\\workspace\\images\\collectedimages\\thanks.425d0c64-7d4b-11ee-a222-9822efe6001e.jpg -> Annotation:C:/ObjectDetection/TFODCourse/Tensorflow/workspace/images/collectedimages\\thanks.425d0c64-7d4b-11ee-a222-9822efe6001e.xml\n",
      "Image:C:\\ObjectDetection\\TFODCourse\\Tensorflow\\workspace\\images\\collectedimages\\thanks.4393baca-7d4b-11ee-95d7-9822efe6001e.jpg -> Annotation:C:/ObjectDetection/TFODCourse/Tensorflow/workspace/images/collectedimages\\thanks.4393baca-7d4b-11ee-95d7-9822efe6001e.xml\n",
      "Image:C:\\ObjectDetection\\TFODCourse\\Tensorflow\\workspace\\images\\collectedimages\\thanks.350660a6-7d4b-11ee-9e03-9822efe6001e.jpg -> Annotation:C:/ObjectDetection/TFODCourse/Tensorflow/workspace/images/collectedimages\\thanks.350660a6-7d4b-11ee-9e03-9822efe6001e.xml\n",
      "Image:C:\\ObjectDetection\\TFODCourse\\Tensorflow\\workspace\\images\\collectedimages\\thanks.377230de-7d4b-11ee-b3de-9822efe6001e.jpg -> Annotation:C:/ObjectDetection/TFODCourse/Tensorflow/workspace/images/collectedimages\\thanks.377230de-7d4b-11ee-b3de-9822efe6001e.xml\n",
      "Image:C:\\ObjectDetection\\TFODCourse\\Tensorflow\\workspace\\images\\collectedimages\\thanks.412651e7-7d4b-11ee-a364-9822efe6001e.jpg -> Annotation:C:/ObjectDetection/TFODCourse/Tensorflow/workspace/images/collectedimages\\thanks.412651e7-7d4b-11ee-a364-9822efe6001e.xml\n",
      "Image:C:\\ObjectDetection\\TFODCourse\\Tensorflow\\workspace\\images\\collectedimages\\yes.4ab7b2e6-7d4b-11ee-ba29-9822efe6001e.jpg -> Annotation:C:/ObjectDetection/TFODCourse/Tensorflow/workspace/images/collectedimages\\yes.4ab7b2e6-7d4b-11ee-ba29-9822efe6001e.xml\n",
      "Image:C:\\ObjectDetection\\TFODCourse\\Tensorflow\\workspace\\images\\collectedimages\\yes.4beea633-7d4b-11ee-bb57-9822efe6001e.jpg -> Annotation:C:/ObjectDetection/TFODCourse/Tensorflow/workspace/images/collectedimages\\yes.4beea633-7d4b-11ee-bb57-9822efe6001e.xml\n",
      "Image:C:\\ObjectDetection\\TFODCourse\\Tensorflow\\workspace\\images\\collectedimages\\yes.4d257eb5-7d4b-11ee-ab09-9822efe6001e.jpg -> Annotation:C:/ObjectDetection/TFODCourse/Tensorflow/workspace/images/collectedimages\\yes.4d257eb5-7d4b-11ee-ab09-9822efe6001e.xml\n",
      "Image:C:\\ObjectDetection\\TFODCourse\\Tensorflow\\workspace\\images\\collectedimages\\yes.4e5c0728-7d4b-11ee-b358-9822efe6001e.jpg -> Annotation:C:/ObjectDetection/TFODCourse/Tensorflow/workspace/images/collectedimages\\yes.4e5c0728-7d4b-11ee-b358-9822efe6001e.xml\n",
      "Image:C:\\ObjectDetection\\TFODCourse\\Tensorflow\\workspace\\images\\collectedimages\\yes.4f92bf2c-7d4b-11ee-a768-9822efe6001e.jpg -> Annotation:C:/ObjectDetection/TFODCourse/Tensorflow/workspace/images/collectedimages\\yes.4f92bf2c-7d4b-11ee-a768-9822efe6001e.xml\n",
      "Image:C:\\ObjectDetection\\TFODCourse\\Tensorflow\\workspace\\images\\collectedimages\\yes.5a7fa1d7-7d4b-11ee-b2a9-9822efe6001e.jpg -> Annotation:C:/ObjectDetection/TFODCourse/Tensorflow/workspace/images/collectedimages\\yes.5a7fa1d7-7d4b-11ee-b2a9-9822efe6001e.xml\n",
      "Image:C:\\ObjectDetection\\TFODCourse\\Tensorflow\\workspace\\images\\collectedimages\\yes.50cd4f3e-7d4b-11ee-8780-9822efe6001e.jpg -> Annotation:C:/ObjectDetection/TFODCourse/Tensorflow/workspace/images/collectedimages\\yes.50cd4f3e-7d4b-11ee-8780-9822efe6001e.xml\n",
      "Image:C:\\ObjectDetection\\TFODCourse\\Tensorflow\\workspace\\images\\collectedimages\\yes.55a71ad6-7d4b-11ee-b8e7-9822efe6001e.jpg -> Annotation:C:/ObjectDetection/TFODCourse/Tensorflow/workspace/images/collectedimages\\yes.55a71ad6-7d4b-11ee-b8e7-9822efe6001e.xml\n",
      "Image:C:\\ObjectDetection\\TFODCourse\\Tensorflow\\workspace\\images\\collectedimages\\yes.56dd9525-7d4b-11ee-b61b-9822efe6001e.jpg -> Annotation:C:/ObjectDetection/TFODCourse/Tensorflow/workspace/images/collectedimages\\yes.56dd9525-7d4b-11ee-b61b-9822efe6001e.xml\n",
      "Image:C:\\ObjectDetection\\TFODCourse\\Tensorflow\\workspace\\images\\collectedimages\\yes.533a4a60-7d4b-11ee-8c48-9822efe6001e.jpg -> Annotation:C:/ObjectDetection/TFODCourse/Tensorflow/workspace/images/collectedimages\\yes.533a4a60-7d4b-11ee-8c48-9822efe6001e.xml\n",
      "Image:C:\\ObjectDetection\\TFODCourse\\Tensorflow\\workspace\\images\\collectedimages\\yes.5470ab38-7d4b-11ee-8380-9822efe6001e.jpg -> Annotation:C:/ObjectDetection/TFODCourse/Tensorflow/workspace/images/collectedimages\\yes.5470ab38-7d4b-11ee-8380-9822efe6001e.xml\n",
      "Image:C:\\ObjectDetection\\TFODCourse\\Tensorflow\\workspace\\images\\collectedimages\\yes.5948d4e8-7d4b-11ee-a420-9822efe6001e.jpg -> Annotation:C:/ObjectDetection/TFODCourse/Tensorflow/workspace/images/collectedimages\\yes.5948d4e8-7d4b-11ee-a420-9822efe6001e.xml\n",
      "Image:C:\\ObjectDetection\\TFODCourse\\Tensorflow\\workspace\\images\\collectedimages\\yes.58124cec-7d4b-11ee-889e-9822efe6001e.jpg -> Annotation:C:/ObjectDetection/TFODCourse/Tensorflow/workspace/images/collectedimages\\yes.58124cec-7d4b-11ee-889e-9822efe6001e.xml\n",
      "Image:C:\\ObjectDetection\\TFODCourse\\Tensorflow\\workspace\\images\\collectedimages\\yes.49814639-7d4b-11ee-99e3-9822efe6001e.jpg -> Annotation:C:/ObjectDetection/TFODCourse/Tensorflow/workspace/images/collectedimages\\yes.49814639-7d4b-11ee-99e3-9822efe6001e.xml\n",
      "Cancel creation.\n"
     ]
    }
   ],
   "source": [
    "!cd {LABELIMG_PATH} && python labelImg.py"
   ]
  },
  {
   "cell_type": "markdown",
   "metadata": {},
   "source": [
    "# 6. Move them into a Training and Testing Partition"
   ]
  },
  {
   "cell_type": "markdown",
   "metadata": {},
   "source": [
    "# OPTIONAL - 7. Compress them for Colab Training"
   ]
  },
  {
   "cell_type": "code",
   "execution_count": 20,
   "metadata": {},
   "outputs": [],
   "source": [
    "TRAIN_PATH = os.path.join('Tensorflow', 'workspace', 'images', 'train')\n",
    "TEST_PATH = os.path.join('Tensorflow', 'workspace', 'images', 'test')\n",
    "ARCHIVE_PATH = os.path.join('Tensorflow', 'workspace', 'images', 'archive.tar.gz')"
   ]
  },
  {
   "cell_type": "code",
   "execution_count": 21,
   "metadata": {},
   "outputs": [],
   "source": [
    "!tar -czf {ARCHIVE_PATH} {TRAIN_PATH} {TEST_PATH}"
   ]
  },
  {
   "cell_type": "code",
   "execution_count": null,
   "metadata": {},
   "outputs": [],
   "source": []
  }
 ],
 "metadata": {
  "kernelspec": {
   "display_name": "tfod",
   "language": "python",
   "name": "tfod"
  },
  "language_info": {
   "codemirror_mode": {
    "name": "ipython",
    "version": 3
   },
   "file_extension": ".py",
   "mimetype": "text/x-python",
   "name": "python",
   "nbconvert_exporter": "python",
   "pygments_lexer": "ipython3",
   "version": "3.11.6"
  }
 },
 "nbformat": 4,
 "nbformat_minor": 4
}
